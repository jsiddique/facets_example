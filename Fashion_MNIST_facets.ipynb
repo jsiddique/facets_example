{
 "cells": [
  {
   "cell_type": "markdown",
   "metadata": {},
   "source": [
    "# Visualising an image dataset using Facets Dive\n",
    "\n",
    "This Notebook serves as a simple example for how to visualise an image dataset with associated tabular data. For this example we just generate some example tabular data from the images themselves."
   ]
  },
  {
   "cell_type": "code",
   "execution_count": 3,
   "metadata": {},
   "outputs": [
    {
     "name": "stdout",
     "output_type": "stream",
     "text": [
      "Collecting scikit-image\n",
      "\u001b[?25l  Downloading https://files.pythonhosted.org/packages/2e/db/17f9e6243c167f1ff544ef1eb4320a044c58abeecbe9f862acc29681af0f/scikit_image-0.17.2-cp38-cp38-macosx_10_13_x86_64.whl (12.2MB)\n",
      "\u001b[K     |████████████████████████████████| 12.2MB 7.6MB/s eta 0:00:01\n",
      "\u001b[?25hCollecting PyWavelets>=1.1.1 (from scikit-image)\n",
      "\u001b[?25l  Downloading https://files.pythonhosted.org/packages/77/fa/cd182609e276d8ea7315a084cf2acbd0f39751e56562555bd8e4a0131498/PyWavelets-1.1.1-cp38-cp38-macosx_10_9_x86_64.whl (4.3MB)\n",
      "\u001b[K     |████████████████████████████████| 4.4MB 7.4MB/s eta 0:00:01\n",
      "\u001b[?25hCollecting tifffile>=2019.7.26 (from scikit-image)\n",
      "\u001b[?25l  Downloading https://files.pythonhosted.org/packages/e8/8c/166c88fcbe3b3632dcf93a106f6d13892b1a2b822b61eb7cd9a5ab68b259/tifffile-2020.10.1-py3-none-any.whl (152kB)\n",
      "\u001b[K     |████████████████████████████████| 153kB 8.4MB/s eta 0:00:01\n",
      "\u001b[?25hRequirement already satisfied: scipy>=1.0.1 in /Users/javedsiddique/virtualenvironments/python3jupyterlab/lib/python3.8/site-packages (from scikit-image) (1.4.1)\n",
      "Collecting imageio>=2.3.0 (from scikit-image)\n",
      "\u001b[?25l  Downloading https://files.pythonhosted.org/packages/6e/57/5d899fae74c1752f52869b613a8210a2480e1a69688e65df6cb26117d45d/imageio-2.9.0-py3-none-any.whl (3.3MB)\n",
      "\u001b[K     |████████████████████████████████| 3.3MB 7.7MB/s eta 0:00:01\n",
      "\u001b[?25hRequirement already satisfied: numpy>=1.15.1 in /Users/javedsiddique/virtualenvironments/python3jupyterlab/lib/python3.8/site-packages (from scikit-image) (1.19.0)\n",
      "Requirement already satisfied: pillow!=7.1.0,!=7.1.1,>=4.3.0 in /Users/javedsiddique/virtualenvironments/python3jupyterlab/lib/python3.8/site-packages (from scikit-image) (7.2.0)\n",
      "Requirement already satisfied: matplotlib!=3.0.0,>=2.0.0 in /Users/javedsiddique/virtualenvironments/python3jupyterlab/lib/python3.8/site-packages (from scikit-image) (3.3.0)\n",
      "Collecting networkx>=2.0 (from scikit-image)\n",
      "\u001b[?25l  Downloading https://files.pythonhosted.org/packages/9b/cd/dc52755d30ba41c60243235460961fc28022e5b6731f16c268667625baea/networkx-2.5-py3-none-any.whl (1.6MB)\n",
      "\u001b[K     |████████████████████████████████| 1.6MB 8.1MB/s eta 0:00:01\n",
      "\u001b[?25hRequirement already satisfied: kiwisolver>=1.0.1 in /Users/javedsiddique/virtualenvironments/python3jupyterlab/lib/python3.8/site-packages (from matplotlib!=3.0.0,>=2.0.0->scikit-image) (1.2.0)\n",
      "Requirement already satisfied: python-dateutil>=2.1 in /Users/javedsiddique/virtualenvironments/python3jupyterlab/lib/python3.8/site-packages (from matplotlib!=3.0.0,>=2.0.0->scikit-image) (2.8.1)\n",
      "Requirement already satisfied: cycler>=0.10 in /Users/javedsiddique/virtualenvironments/python3jupyterlab/lib/python3.8/site-packages (from matplotlib!=3.0.0,>=2.0.0->scikit-image) (0.10.0)\n",
      "Requirement already satisfied: pyparsing!=2.0.4,!=2.1.2,!=2.1.6,>=2.0.3 in /Users/javedsiddique/virtualenvironments/python3jupyterlab/lib/python3.8/site-packages (from matplotlib!=3.0.0,>=2.0.0->scikit-image) (2.4.7)\n",
      "Requirement already satisfied: decorator>=4.3.0 in /Users/javedsiddique/virtualenvironments/python3jupyterlab/lib/python3.8/site-packages (from networkx>=2.0->scikit-image) (4.4.2)\n",
      "Requirement already satisfied: six>=1.5 in /Users/javedsiddique/virtualenvironments/python3jupyterlab/lib/python3.8/site-packages (from python-dateutil>=2.1->matplotlib!=3.0.0,>=2.0.0->scikit-image) (1.15.0)\n",
      "Installing collected packages: PyWavelets, tifffile, imageio, networkx, scikit-image\n",
      "Successfully installed PyWavelets-1.1.1 imageio-2.9.0 networkx-2.5 scikit-image-0.17.2 tifffile-2020.10.1\n",
      "\u001b[33mWARNING: You are using pip version 19.2.3, however version 20.2.4 is available.\n",
      "You should consider upgrading via the 'pip install --upgrade pip' command.\u001b[0m\n"
     ]
    }
   ],
   "source": [
    "!pip install scikit-image"
   ]
  },
  {
   "cell_type": "code",
   "execution_count": 4,
   "metadata": {},
   "outputs": [],
   "source": [
    "import numpy as np\n",
    "import pandas as pd\n",
    "import os\n",
    "from matplotlib import pyplot as plt\n",
    "from skimage import io"
   ]
  },
  {
   "cell_type": "markdown",
   "metadata": {},
   "source": [
    "## Download the Fashion-MNIST dataset"
   ]
  },
  {
   "cell_type": "code",
   "execution_count": 5,
   "metadata": {},
   "outputs": [
    {
     "name": "stdout",
     "output_type": "stream",
     "text": [
      "Cloning into 'fmnist'...\n",
      "remote: Enumerating objects: 692, done.\u001b[K\n",
      "remote: Total 692 (delta 0), reused 0 (delta 0), pack-reused 692\u001b[K\n",
      "Receiving objects: 100% (692/692), 105.21 MiB | 4.55 MiB/s, done.\n",
      "Resolving deltas: 100% (399/399), done.\n"
     ]
    }
   ],
   "source": [
    "!git clone https://github.com/zalandoresearch/fashion-mnist.git fmnist"
   ]
  },
  {
   "cell_type": "code",
   "execution_count": 6,
   "metadata": {},
   "outputs": [],
   "source": [
    "import sys\n",
    "sys.path.append('fmnist/utils')\n",
    "from mnist_reader import load_mnist\n",
    "\n",
    "X_train, y_train = load_mnist('fmnist/data/fashion', kind='train')\n",
    "X_test, y_test = load_mnist('fmnist/data/fashion', kind='t10k')"
   ]
  },
  {
   "cell_type": "code",
   "execution_count": 7,
   "metadata": {},
   "outputs": [],
   "source": [
    "X_train = X_train[0:400]\n",
    "y_train = y_train[0:400]"
   ]
  },
  {
   "cell_type": "code",
   "execution_count": 8,
   "metadata": {},
   "outputs": [],
   "source": [
    "label_names = {\n",
    "    0: 't-shirt/top',\n",
    "    1: 'trouser',\n",
    "    2: 'pullover',\n",
    "    3: 'dress',\n",
    "    4: 'coat',\n",
    "    5: 'sandal',\n",
    "    6: 'shirt',\n",
    "    7: 'sneaker',\n",
    "    8: 'bag',\n",
    "    9: 'angle_boot'\n",
    "}"
   ]
  },
  {
   "cell_type": "markdown",
   "metadata": {},
   "source": [
    "## Generate some artificial meta-data for each image"
   ]
  },
  {
   "cell_type": "code",
   "execution_count": 9,
   "metadata": {},
   "outputs": [],
   "source": [
    "# store the indices of each image as IDs\n",
    "im_ids = range(X_train.shape[0])\n",
    "\n",
    "# get the brightness of each image\n",
    "im_brightness = np.mean(X_train, axis=1)\n",
    "\n",
    "# get the number of non-zero pixels per image\n",
    "non_zeros = np.sum(X_train > 0, axis=1)\n",
    "\n",
    "class_name = [label_names[y] for y in y_train]\n",
    "\n",
    "# output to JSON file\n",
    "\n",
    "df = pd.DataFrame({'id': im_ids, 'class_id': y_train, 'class_name': class_name, 'brightness': im_brightness, 'non-zeros': non_zeros})\n",
    "jsonstr = df.to_json(orient='records')\n",
    "\n",
    "with open('fmnist_data.json', 'w') as f:\n",
    "    f.write(jsonstr)"
   ]
  },
  {
   "cell_type": "code",
   "execution_count": 16,
   "metadata": {},
   "outputs": [],
   "source": [
    "df.to_csv('fmnist.csv', index=None)"
   ]
  },
  {
   "cell_type": "markdown",
   "metadata": {},
   "source": [
    "\n",
    "## Create sprite atlas\n",
    "\n",
    "We use Bazel to generate a \"sprite atlas\", which is a mosaic of all the small images.\n",
    "\n",
    "Since we already have all the images in a Numpy array, we can generate our own sprite atlas."
   ]
  },
  {
   "cell_type": "markdown",
   "metadata": {},
   "source": [
    "### Manually create sprite atlas (i.e. mosaic)"
   ]
  },
  {
   "cell_type": "code",
   "execution_count": 10,
   "metadata": {},
   "outputs": [],
   "source": [
    "# reshape image data from rows into square images\n",
    "im_w = im_h = 28\n",
    "num_images = X_train.shape[0]\n",
    "X = np.reshape(X_train, (num_images, im_h, im_w))\n",
    "\n",
    "# calculate how many rows and columns we need (round up)\n",
    "cols = int(np.ceil(np.sqrt(X_train.shape[0])))\n",
    "rows = int(np.ceil(X_train.shape[0] * 1. / cols))\n",
    "\n",
    "# copy image data into mosaic\n",
    "mosaic = np.zeros((rows * im_h, cols * im_w), dtype=np.uint8)\n",
    "\n",
    "for row in range(rows):\n",
    "    for col in range(cols):\n",
    "        im_index = col * rows + row\n",
    "        if im_index < num_images:\n",
    "            mosaic[col * im_h:(col+1) * im_h, row * im_w:(row+1) * im_w] = X[im_index, :, :]"
   ]
  },
  {
   "cell_type": "code",
   "execution_count": 11,
   "metadata": {},
   "outputs": [],
   "source": [
    "# write mosaic image to disk\n",
    "io.imsave('sprite_atlas.png', mosaic)"
   ]
  },
  {
   "cell_type": "code",
   "execution_count": 12,
   "metadata": {},
   "outputs": [
    {
     "name": "stdout",
     "output_type": "stream",
     "text": [
      "sneaker\n"
     ]
    },
    {
     "data": {
      "image/png": "[encoded data removed]",
      "text/plain": [
       "<Figure size 432x288 with 1 Axes>"
      ]
     },
     "metadata": {
      "needs_background": "light"
     },
     "output_type": "display_data"
    }
   ],
   "source": [
    "jj = 41\n",
    "plt.imshow(X[jj, :, :])\n",
    "print(label_names[y_train[jj]])"
   ]
  },
  {
   "cell_type": "markdown",
   "metadata": {},
   "source": [
    "## Visualise using Facets Dive"
   ]
  },
  {
   "cell_type": "code",
   "execution_count": 13,
   "metadata": {},
   "outputs": [],
   "source": [
    "with open('fmnist_data.json', 'r') as f:\n",
    "    jsonstr = f.read()"
   ]
  },
  {
   "cell_type": "code",
   "execution_count": 14,
   "metadata": {},
   "outputs": [
    {
     "data": {
      "text/html": [
       "<link rel=\"import\" href=\"/nbextensions/facets-dist/facets-jupyter.html\">\n",
       "        <facets-dive sprite-image-width=\"28\" sprite-image-height=\"28\" id=\"elem\" height=\"600\" atlas-url=\"sprite_atlas.png\"></facets-dive>\n",
       "        <script>\n",
       "          document.querySelector(\"#elem\").data = [{\"id\":0,\"class_id\":9,\"class_name\":\"angle_boot\",\"brightness\":97.2538265306,\"non-zeros\":433},{\"id\":1,\"class_id\":0,\"class_name\":\"t-shirt\\/top\",\"brightness\":107.9056122449,\"non-zeros\":487},{\"id\":2,\"class_id\":0,\"class_name\":\"t-shirt\\/top\",\"brightness\":36.5586734694,\"non-zeros\":329},{\"id\":3,\"class_id\":3,\"class_name\":\"dress\",\"brightness\":59.5012755102,\"non-zeros\":408},{\"id\":4,\"class_id\":0,\"class_name\":\"t-shirt\\/top\",\"brightness\":78.0446428571,\"non-zeros\":303},{\"id\":5,\"class_id\":2,\"class_name\":\"pullover\",\"brightness\":107.3533163265,\"non-zeros\":526},{\"id\":6,\"class_id\":7,\"class_name\":\"sneaker\",\"brightness\":41.487244898,\"non-zeros\":248},{\"id\":7,\"class_id\":2,\"class_name\":\"pullover\",\"brightness\":146.9158163265,\"non-zeros\":552},{\"id\":8,\"class_id\":5,\"class_name\":\"sandal\",\"brightness\":25.3724489796,\"non-zeros\":253},{\"id\":9,\"class_id\":5,\"class_name\":\"sandal\",\"brightness\":51.9081632653,\"non-zeros\":314},{\"id\":10,\"class_id\":0,\"class_name\":\"t-shirt\\/top\",\"brightness\":88.7270408163,\"non-zeros\":472},{\"id\":11,\"class_id\":9,\"class_name\":\"angle_boot\",\"brightness\":100.950255102,\"non-zeros\":426},{\"id\":12,\"class_id\":5,\"class_name\":\"sandal\",\"brightness\":38.174744898,\"non-zeros\":299},{\"id\":13,\"class_id\":5,\"class_name\":\"sandal\",\"brightness\":30.2130102041,\"non-zeros\":239},{\"id\":14,\"class_id\":7,\"class_name\":\"sneaker\",\"brightness\":25.4081632653,\"non-zeros\":194},{\"id\":15,\"class_id\":9,\"class_name\":\"angle_boot\",\"brightness\":83.2155612245,\"non-zeros\":354},{\"id\":16,\"class_id\":1,\"class_name\":\"trouser\",\"brightness\":66.4770408163,\"non-zeros\":322},{\"id\":17,\"class_id\":0,\"class_name\":\"t-shirt\\/top\",\"brightness\":94.3112244898,\"non-zeros\":439},{\"id\":18,\"class_id\":6,\"class_name\":\"shirt\",\"brightness\":112.2512755102,\"non-zeros\":574},{\"id\":19,\"class_id\":4,\"class_name\":\"coat\",\"brightness\":40.5548469388,\"non-zeros\":499},{\"id\":20,\"class_id\":3,\"class_name\":\"dress\",\"brightness\":83.4362244898,\"non-zeros\":376},{\"id\":21,\"class_id\":1,\"class_name\":\"trouser\",\"brightness\":61.1045918367,\"non-zeros\":287},{\"id\":22,\"class_id\":4,\"class_name\":\"coat\",\"brightness\":75.631377551,\"non-zeros\":431},{\"id\":23,\"class_id\":8,\"class_name\":\"bag\",\"brightness\":99.7181122449,\"non-zeros\":571},{\"id\":24,\"class_id\":4,\"class_name\":\"coat\",\"brightness\":114.6619897959,\"non-zeros\":487},{\"id\":25,\"class_id\":3,\"class_name\":\"dress\",\"brightness\":83.7130102041,\"non-zeros\":345},{\"id\":26,\"class_id\":0,\"class_name\":\"t-shirt\\/top\",\"brightness\":94.362244898,\"non-zeros\":534},{\"id\":27,\"class_id\":2,\"class_name\":\"pullover\",\"brightness\":138.9068877551,\"non-zeros\":556},{\"id\":28,\"class_id\":4,\"class_name\":\"coat\",\"brightness\":76.1454081633,\"non-zeros\":482},{\"id\":29,\"class_id\":4,\"class_name\":\"coat\",\"brightness\":120.0841836735,\"non-zeros\":515},{\"id\":30,\"class_id\":5,\"class_name\":\"sandal\",\"brightness\":16.2959183673,\"non-zeros\":132},{\"id\":31,\"class_id\":3,\"class_name\":\"dress\",\"brightness\":45.1415816327,\"non-zeros\":309},{\"id\":32,\"class_id\":6,\"class_name\":\"shirt\",\"brightness\":99.0420918367,\"non-zeros\":519},{\"id\":33,\"class_id\":6,\"class_name\":\"shirt\",\"brightness\":19.2461734694,\"non-zeros\":487},{\"id\":34,\"class_id\":0,\"class_name\":\"t-shirt\\/top\",\"brightness\":27.5905612245,\"non-zeros\":446},{\"id\":35,\"class_id\":8,\"class_name\":\"bag\",\"brightness\":56.0471938776,\"non-zeros\":426},{\"id\":36,\"class_id\":5,\"class_name\":\"sandal\",\"brightness\":55.5255102041,\"non-zeros\":343},{\"id\":37,\"class_id\":2,\"class_name\":\"pullover\",\"brightness\":68.6875,\"non-zeros\":589},{\"id\":38,\"class_id\":1,\"class_name\":\"trouser\",\"brightness\":64.0114795918,\"non-zeros\":250},{\"id\":39,\"class_id\":6,\"class_name\":\"shirt\",\"brightness\":133.7729591837,\"non-zeros\":505},{\"id\":40,\"class_id\":6,\"class_name\":\"shirt\",\"brightness\":107.3278061224,\"non-zeros\":496},{\"id\":41,\"class_id\":7,\"class_name\":\"sneaker\",\"brightness\":49.3711734694,\"non-zeros\":271},{\"id\":42,\"class_id\":9,\"class_name\":\"angle_boot\",\"brightness\":82.4795918367,\"non-zeros\":337},{\"id\":43,\"class_id\":5,\"class_name\":\"sandal\",\"brightness\":35.9693877551,\"non-zeros\":227},{\"id\":44,\"class_id\":9,\"class_name\":\"angle_boot\",\"brightness\":126.2219387755,\"non-zeros\":482},{\"id\":45,\"class_id\":2,\"class_name\":\"pullover\",\"brightness\":93.8214285714,\"non-zeros\":538},{\"id\":46,\"class_id\":7,\"class_name\":\"sneaker\",\"brightness\":43.7538265306,\"non-zeros\":257},{\"id\":47,\"class_id\":3,\"class_name\":\"dress\",\"brightness\":89.299744898,\"non-zeros\":375},{\"id\":48,\"class_id\":0,\"class_name\":\"t-shirt\\/top\",\"brightness\":88.1887755102,\"non-zeros\":500},{\"id\":49,\"class_id\":3,\"class_name\":\"dress\",\"brightness\":98.2295918367,\"non-zeros\":393},{\"id\":50,\"class_id\":3,\"class_name\":\"dress\",\"brightness\":71.8979591837,\"non-zeros\":293},{\"id\":51,\"class_id\":3,\"class_name\":\"dress\",\"brightness\":73.887755102,\"non-zeros\":340},{\"id\":52,\"class_id\":7,\"class_name\":\"sneaker\",\"brightness\":47.4553571429,\"non-zeros\":272},{\"id\":53,\"class_id\":2,\"class_name\":\"pullover\",\"brightness\":146.3737244898,\"non-zeros\":516},{\"id\":54,\"class_id\":2,\"class_name\":\"pullover\",\"brightness\":45.762755102,\"non-zeros\":473},{\"id\":55,\"class_id\":6,\"class_name\":\"shirt\",\"brightness\":103.6785714286,\"non-zeros\":479},{\"id\":56,\"class_id\":6,\"class_name\":\"shirt\",\"brightness\":77.5357142857,\"non-zeros\":333},{\"id\":57,\"class_id\":8,\"class_name\":\"bag\",\"brightness\":58.8022959184,\"non-zeros\":318},{\"id\":58,\"class_id\":3,\"class_name\":\"dress\",\"brightness\":75.6926020408,\"non-zeros\":279},{\"id\":59,\"class_id\":3,\"class_name\":\"dress\",\"brightness\":47.7257653061,\"non-zeros\":207},{\"id\":60,\"class_id\":5,\"class_name\":\"sandal\",\"brightness\":65.8928571429,\"non-zeros\":367},{\"id\":61,\"class_id\":0,\"class_name\":\"t-shirt\\/top\",\"brightness\":76.0191326531,\"non-zeros\":518},{\"id\":62,\"class_id\":5,\"class_name\":\"sandal\",\"brightness\":19.7920918367,\"non-zeros\":188},{\"id\":63,\"class_id\":5,\"class_name\":\"sandal\",\"brightness\":8.637755102,\"non-zeros\":115},{\"id\":64,\"class_id\":0,\"class_name\":\"t-shirt\\/top\",\"brightness\":87.3316326531,\"non-zeros\":364},{\"id\":65,\"class_id\":2,\"class_name\":\"pullover\",\"brightness\":121.8839285714,\"non-zeros\":574},{\"id\":66,\"class_id\":0,\"class_name\":\"t-shirt\\/top\",\"brightness\":108.5484693878,\"non-zeros\":473},{\"id\":67,\"class_id\":0,\"class_name\":\"t-shirt\\/top\",\"brightness\":68.3864795918,\"non-zeros\":345},{\"id\":68,\"class_id\":4,\"class_name\":\"coat\",\"brightness\":88.1237244898,\"non-zeros\":523},{\"id\":69,\"class_id\":1,\"class_name\":\"trouser\",\"brightness\":46.7385204082,\"non-zeros\":218},{\"id\":70,\"class_id\":3,\"class_name\":\"dress\",\"brightness\":105.5676020408,\"non-zeros\":441},{\"id\":71,\"class_id\":1,\"class_name\":\"trouser\",\"brightness\":61.4119897959,\"non-zeros\":288},{\"id\":72,\"class_id\":6,\"class_name\":\"shirt\",\"brightness\":58.2806122449,\"non-zeros\":443},{\"id\":73,\"class_id\":3,\"class_name\":\"dress\",\"brightness\":80.3966836735,\"non-zeros\":319},{\"id\":74,\"class_id\":1,\"class_name\":\"trouser\",\"brightness\":56.318877551,\"non-zeros\":253},{\"id\":75,\"class_id\":4,\"class_name\":\"coat\",\"brightness\":105.4119897959,\"non-zeros\":402},{\"id\":76,\"class_id\":4,\"class_name\":\"coat\",\"brightness\":70.4094387755,\"non-zeros\":373},{\"id\":77,\"class_id\":6,\"class_name\":\"shirt\",\"brightness\":114.2614795918,\"non-zeros\":614},{\"id\":78,\"class_id\":1,\"class_name\":\"trouser\",\"brightness\":43.8482142857,\"non-zeros\":237},{\"id\":79,\"class_id\":9,\"class_name\":\"angle_boot\",\"brightness\":90.5025510204,\"non-zeros\":396},{\"id\":80,\"class_id\":1,\"class_name\":\"trouser\",\"brightness\":67.0816326531,\"non-zeros\":269},{\"id\":81,\"class_id\":3,\"class_name\":\"dress\",\"brightness\":37.3788265306,\"non-zeros\":296},{\"id\":82,\"class_id\":5,\"class_name\":\"sandal\",\"brightness\":29.568877551,\"non-zeros\":256},{\"id\":83,\"class_id\":7,\"class_name\":\"sneaker\",\"brightness\":53.2665816327,\"non-zeros\":253},{\"id\":84,\"class_id\":9,\"class_name\":\"angle_boot\",\"brightness\":119.1466836735,\"non-zeros\":476},{\"id\":85,\"class_id\":7,\"class_name\":\"sneaker\",\"brightness\":43.8941326531,\"non-zeros\":345},{\"id\":86,\"class_id\":1,\"class_name\":\"trouser\",\"brightness\":64.2818877551,\"non-zeros\":266},{\"id\":87,\"class_id\":7,\"class_name\":\"sneaker\",\"brightness\":31.8010204082,\"non-zeros\":211},{\"id\":88,\"class_id\":9,\"class_name\":\"angle_boot\",\"brightness\":116.3826530612,\"non-zeros\":485},{\"id\":89,\"class_id\":9,\"class_name\":\"angle_boot\",\"brightness\":62.3201530612,\"non-zeros\":324},{\"id\":90,\"class_id\":9,\"class_name\":\"angle_boot\",\"brightness\":50.5165816327,\"non-zeros\":375},{\"id\":91,\"class_id\":3,\"class_name\":\"dress\",\"brightness\":48.8979591837,\"non-zeros\":274},{\"id\":92,\"class_id\":2,\"class_name\":\"pullover\",\"brightness\":41.5841836735,\"non-zeros\":559},{\"id\":93,\"class_id\":9,\"class_name\":\"angle_boot\",\"brightness\":75.8214285714,\"non-zeros\":347},{\"id\":94,\"class_id\":3,\"class_name\":\"dress\",\"brightness\":75.1581632653,\"non-zeros\":350},{\"id\":95,\"class_id\":6,\"class_name\":\"shirt\",\"brightness\":75.7168367347,\"non-zeros\":532},{\"id\":96,\"class_id\":4,\"class_name\":\"coat\",\"brightness\":32.7691326531,\"non-zeros\":473},{\"id\":97,\"class_id\":1,\"class_name\":\"trouser\",\"brightness\":59.2920918367,\"non-zeros\":230},{\"id\":98,\"class_id\":1,\"class_name\":\"trouser\",\"brightness\":70.7767857143,\"non-zeros\":331},{\"id\":99,\"class_id\":8,\"class_name\":\"bag\",\"brightness\":93.2244897959,\"non-zeros\":482},{\"id\":100,\"class_id\":8,\"class_name\":\"bag\",\"brightness\":103.3507653061,\"non-zeros\":484},{\"id\":101,\"class_id\":0,\"class_name\":\"t-shirt\\/top\",\"brightness\":79.3801020408,\"non-zeros\":394},{\"id\":102,\"class_id\":1,\"class_name\":\"trouser\",\"brightness\":56.0880102041,\"non-zeros\":235},{\"id\":103,\"class_id\":1,\"class_name\":\"trouser\",\"brightness\":51.8954081633,\"non-zeros\":226},{\"id\":104,\"class_id\":6,\"class_name\":\"shirt\",\"brightness\":67.1466836735,\"non-zeros\":510},{\"id\":105,\"class_id\":8,\"class_name\":\"bag\",\"brightness\":94.1352040816,\"non-zeros\":425},{\"id\":106,\"class_id\":1,\"class_name\":\"trouser\",\"brightness\":63.5420918367,\"non-zeros\":268},{\"id\":107,\"class_id\":9,\"class_name\":\"angle_boot\",\"brightness\":71.9566326531,\"non-zeros\":319},{\"id\":108,\"class_id\":7,\"class_name\":\"sneaker\",\"brightness\":57.9285714286,\"non-zeros\":270},{\"id\":109,\"class_id\":8,\"class_name\":\"bag\",\"brightness\":119.2321428571,\"non-zeros\":449},{\"id\":110,\"class_id\":8,\"class_name\":\"bag\",\"brightness\":98.1020408163,\"non-zeros\":399},{\"id\":111,\"class_id\":9,\"class_name\":\"angle_boot\",\"brightness\":41.7295918367,\"non-zeros\":273},{\"id\":112,\"class_id\":6,\"class_name\":\"shirt\",\"brightness\":91.6619897959,\"non-zeros\":489},{\"id\":113,\"class_id\":6,\"class_name\":\"shirt\",\"brightness\":52.5102040816,\"non-zeros\":374},{\"id\":114,\"class_id\":3,\"class_name\":\"dress\",\"brightness\":51.868622449,\"non-zeros\":344},{\"id\":115,\"class_id\":1,\"class_name\":\"trouser\",\"brightness\":33.2079081633,\"non-zeros\":259},{\"id\":116,\"class_id\":5,\"class_name\":\"sandal\",\"brightness\":51.5969387755,\"non-zeros\":323},{\"id\":117,\"class_id\":4,\"class_name\":\"coat\",\"brightness\":102.1517857143,\"non-zeros\":573},{\"id\":118,\"class_id\":6,\"class_name\":\"shirt\",\"brightness\":48.1683673469,\"non-zeros\":480},{\"id\":119,\"class_id\":7,\"class_name\":\"sneaker\",\"brightness\":46.2168367347,\"non-zeros\":225},{\"id\":120,\"class_id\":5,\"class_name\":\"sandal\",\"brightness\":24.4566326531,\"non-zeros\":197},{\"id\":121,\"class_id\":5,\"class_name\":\"sandal\",\"brightness\":33.4056122449,\"non-zeros\":247},{\"id\":122,\"class_id\":9,\"class_name\":\"angle_boot\",\"brightness\":90.7946428571,\"non-zeros\":395},{\"id\":123,\"class_id\":2,\"class_name\":\"pullover\",\"brightness\":53.9719387755,\"non-zeros\":554},{\"id\":124,\"class_id\":2,\"class_name\":\"pullover\",\"brightness\":130.6836734694,\"non-zeros\":553},{\"id\":125,\"class_id\":2,\"class_name\":\"pullover\",\"brightness\":83.1683673469,\"non-zeros\":454},{\"id\":126,\"class_id\":7,\"class_name\":\"sneaker\",\"brightness\":47.5931122449,\"non-zeros\":260},{\"id\":127,\"class_id\":6,\"class_name\":\"shirt\",\"brightness\":55.1288265306,\"non-zeros\":443},{\"id\":128,\"class_id\":4,\"class_name\":\"coat\",\"brightness\":124.8469387755,\"non-zeros\":460},{\"id\":129,\"class_id\":1,\"class_name\":\"trouser\",\"brightness\":66.2882653061,\"non-zeros\":275},{\"id\":130,\"class_id\":8,\"class_name\":\"bag\",\"brightness\":69.575255102,\"non-zeros\":388},{\"id\":131,\"class_id\":7,\"class_name\":\"sneaker\",\"brightness\":33.4540816327,\"non-zeros\":218},{\"id\":132,\"class_id\":7,\"class_name\":\"sneaker\",\"brightness\":40.2678571429,\"non-zeros\":259},{\"id\":133,\"class_id\":5,\"class_name\":\"sandal\",\"brightness\":18.5994897959,\"non-zeros\":192},{\"id\":134,\"class_id\":4,\"class_name\":\"coat\",\"brightness\":57.7882653061,\"non-zeros\":476},{\"id\":135,\"class_id\":2,\"class_name\":\"pullover\",\"brightness\":120.8380102041,\"non-zeros\":492},{\"id\":136,\"class_id\":9,\"class_name\":\"angle_boot\",\"brightness\":92.4744897959,\"non-zeros\":494},{\"id\":137,\"class_id\":1,\"class_name\":\"trouser\",\"brightness\":40.4285714286,\"non-zeros\":251},{\"id\":138,\"class_id\":7,\"class_name\":\"sneaker\",\"brightness\":34.493622449,\"non-zeros\":212},{\"id\":139,\"class_id\":4,\"class_name\":\"coat\",\"brightness\":123.0140306122,\"non-zeros\":494},{\"id\":140,\"class_id\":6,\"class_name\":\"shirt\",\"brightness\":84.4515306122,\"non-zeros\":492},{\"id\":141,\"class_id\":9,\"class_name\":\"angle_boot\",\"brightness\":59.2104591837,\"non-zeros\":295},{\"id\":142,\"class_id\":7,\"class_name\":\"sneaker\",\"brightness\":52.5484693878,\"non-zeros\":314},{\"id\":143,\"class_id\":1,\"class_name\":\"trouser\",\"brightness\":72.8954081633,\"non-zeros\":303},{\"id\":144,\"class_id\":8,\"class_name\":\"bag\",\"brightness\":111.0089285714,\"non-zeros\":472},{\"id\":145,\"class_id\":7,\"class_name\":\"sneaker\",\"brightness\":23.0522959184,\"non-zeros\":242},{\"id\":146,\"class_id\":1,\"class_name\":\"trouser\",\"brightness\":46.0701530612,\"non-zeros\":218},{\"id\":147,\"class_id\":2,\"class_name\":\"pullover\",\"brightness\":112.5,\"non-zeros\":452},{\"id\":148,\"class_id\":8,\"class_name\":\"bag\",\"brightness\":56.7244897959,\"non-zeros\":427},{\"id\":149,\"class_id\":0,\"class_name\":\"t-shirt\\/top\",\"brightness\":93.3852040816,\"non-zeros\":493},{\"id\":150,\"class_id\":9,\"class_name\":\"angle_boot\",\"brightness\":97.0076530612,\"non-zeros\":491},{\"id\":151,\"class_id\":1,\"class_name\":\"trouser\",\"brightness\":85.9119897959,\"non-zeros\":336},{\"id\":152,\"class_id\":8,\"class_name\":\"bag\",\"brightness\":66.5816326531,\"non-zeros\":420},{\"id\":153,\"class_id\":7,\"class_name\":\"sneaker\",\"brightness\":47.6658163265,\"non-zeros\":284},{\"id\":154,\"class_id\":0,\"class_name\":\"t-shirt\\/top\",\"brightness\":113.2869897959,\"non-zeros\":482},{\"id\":155,\"class_id\":5,\"class_name\":\"sandal\",\"brightness\":22.6364795918,\"non-zeros\":200},{\"id\":156,\"class_id\":8,\"class_name\":\"bag\",\"brightness\":120.3903061224,\"non-zeros\":600},{\"id\":157,\"class_id\":6,\"class_name\":\"shirt\",\"brightness\":123.1352040816,\"non-zeros\":564},{\"id\":158,\"class_id\":7,\"class_name\":\"sneaker\",\"brightness\":43.8660714286,\"non-zeros\":283},{\"id\":159,\"class_id\":2,\"class_name\":\"pullover\",\"brightness\":119.4336734694,\"non-zeros\":497},{\"id\":160,\"class_id\":0,\"class_name\":\"t-shirt\\/top\",\"brightness\":73.799744898,\"non-zeros\":338},{\"id\":161,\"class_id\":8,\"class_name\":\"bag\",\"brightness\":76.2040816327,\"non-zeros\":446},{\"id\":162,\"class_id\":7,\"class_name\":\"sneaker\",\"brightness\":50.193877551,\"non-zeros\":254},{\"id\":163,\"class_id\":1,\"class_name\":\"trouser\",\"brightness\":51.6441326531,\"non-zeros\":239},{\"id\":164,\"class_id\":6,\"class_name\":\"shirt\",\"brightness\":56.5790816327,\"non-zeros\":447},{\"id\":165,\"class_id\":2,\"class_name\":\"pullover\",\"brightness\":69.9119897959,\"non-zeros\":620},{\"id\":166,\"class_id\":1,\"class_name\":\"trouser\",\"brightness\":59.5548469388,\"non-zeros\":606},{\"id\":167,\"class_id\":9,\"class_name\":\"angle_boot\",\"brightness\":65.1454081633,\"non-zeros\":306},{\"id\":168,\"class_id\":6,\"class_name\":\"shirt\",\"brightness\":113.612244898,\"non-zeros\":539},{\"id\":169,\"class_id\":0,\"class_name\":\"t-shirt\\/top\",\"brightness\":108.7474489796,\"non-zeros\":492},{\"id\":170,\"class_id\":1,\"class_name\":\"trouser\",\"brightness\":56.8992346939,\"non-zeros\":253},{\"id\":171,\"class_id\":0,\"class_name\":\"t-shirt\\/top\",\"brightness\":117.8099489796,\"non-zeros\":469},{\"id\":172,\"class_id\":5,\"class_name\":\"sandal\",\"brightness\":51.0612244898,\"non-zeros\":397},{\"id\":173,\"class_id\":5,\"class_name\":\"sandal\",\"brightness\":31.0025510204,\"non-zeros\":239},{\"id\":174,\"class_id\":1,\"class_name\":\"trouser\",\"brightness\":72.5790816327,\"non-zeros\":301},{\"id\":175,\"class_id\":7,\"class_name\":\"sneaker\",\"brightness\":54.1760204082,\"non-zeros\":272},{\"id\":176,\"class_id\":0,\"class_name\":\"t-shirt\\/top\",\"brightness\":107.5956632653,\"non-zeros\":534},{\"id\":177,\"class_id\":5,\"class_name\":\"sandal\",\"brightness\":41.8609693878,\"non-zeros\":315},{\"id\":178,\"class_id\":8,\"class_name\":\"bag\",\"brightness\":91.2487244898,\"non-zeros\":428},{\"id\":179,\"class_id\":4,\"class_name\":\"coat\",\"brightness\":112.256377551,\"non-zeros\":473},{\"id\":180,\"class_id\":0,\"class_name\":\"t-shirt\\/top\",\"brightness\":74.5165816327,\"non-zeros\":531},{\"id\":181,\"class_id\":4,\"class_name\":\"coat\",\"brightness\":119.5204081633,\"non-zeros\":449},{\"id\":182,\"class_id\":0,\"class_name\":\"t-shirt\\/top\",\"brightness\":39.693877551,\"non-zeros\":318},{\"id\":183,\"class_id\":6,\"class_name\":\"shirt\",\"brightness\":48.4630102041,\"non-zeros\":493},{\"id\":184,\"class_id\":6,\"class_name\":\"shirt\",\"brightness\":83.2780612245,\"non-zeros\":522},{\"id\":185,\"class_id\":4,\"class_name\":\"coat\",\"brightness\":92.862244898,\"non-zeros\":542},{\"id\":186,\"class_id\":0,\"class_name\":\"t-shirt\\/top\",\"brightness\":77.4604591837,\"non-zeros\":317},{\"id\":187,\"class_id\":0,\"class_name\":\"t-shirt\\/top\",\"brightness\":49.7385204082,\"non-zeros\":492},{\"id\":188,\"class_id\":4,\"class_name\":\"coat\",\"brightness\":110.4757653061,\"non-zeros\":515},{\"id\":189,\"class_id\":7,\"class_name\":\"sneaker\",\"brightness\":49.8775510204,\"non-zeros\":242},{\"id\":190,\"class_id\":3,\"class_name\":\"dress\",\"brightness\":85.237244898,\"non-zeros\":366},{\"id\":191,\"class_id\":0,\"class_name\":\"t-shirt\\/top\",\"brightness\":98.2984693878,\"non-zeros\":430},{\"id\":192,\"class_id\":5,\"class_name\":\"sandal\",\"brightness\":37.0803571429,\"non-zeros\":225},{\"id\":193,\"class_id\":8,\"class_name\":\"bag\",\"brightness\":90.1058673469,\"non-zeros\":372},{\"id\":194,\"class_id\":4,\"class_name\":\"coat\",\"brightness\":86.9272959184,\"non-zeros\":449},{\"id\":195,\"class_id\":1,\"class_name\":\"trouser\",\"brightness\":48.9158163265,\"non-zeros\":265},{\"id\":196,\"class_id\":1,\"class_name\":\"trouser\",\"brightness\":59.5880102041,\"non-zeros\":262},{\"id\":197,\"class_id\":2,\"class_name\":\"pullover\",\"brightness\":159.8431122449,\"non-zeros\":601},{\"id\":198,\"class_id\":9,\"class_name\":\"angle_boot\",\"brightness\":47.2908163265,\"non-zeros\":328},{\"id\":199,\"class_id\":2,\"class_name\":\"pullover\",\"brightness\":100.5892857143,\"non-zeros\":549},{\"id\":200,\"class_id\":8,\"class_name\":\"bag\",\"brightness\":46.4757653061,\"non-zeros\":257},{\"id\":201,\"class_id\":5,\"class_name\":\"sandal\",\"brightness\":33.6530612245,\"non-zeros\":189},{\"id\":202,\"class_id\":0,\"class_name\":\"t-shirt\\/top\",\"brightness\":29.924744898,\"non-zeros\":455},{\"id\":203,\"class_id\":6,\"class_name\":\"shirt\",\"brightness\":99.6836734694,\"non-zeros\":528},{\"id\":204,\"class_id\":3,\"class_name\":\"dress\",\"brightness\":96.950255102,\"non-zeros\":530},{\"id\":205,\"class_id\":4,\"class_name\":\"coat\",\"brightness\":97.8596938776,\"non-zeros\":525},{\"id\":206,\"class_id\":6,\"class_name\":\"shirt\",\"brightness\":87.8278061224,\"non-zeros\":506},{\"id\":207,\"class_id\":0,\"class_name\":\"t-shirt\\/top\",\"brightness\":48.318877551,\"non-zeros\":450},{\"id\":208,\"class_id\":9,\"class_name\":\"angle_boot\",\"brightness\":77.7882653061,\"non-zeros\":405},{\"id\":209,\"class_id\":1,\"class_name\":\"trouser\",\"brightness\":53.5165816327,\"non-zeros\":226},{\"id\":210,\"class_id\":7,\"class_name\":\"sneaker\",\"brightness\":27.7767857143,\"non-zeros\":223},{\"id\":211,\"class_id\":3,\"class_name\":\"dress\",\"brightness\":60.7066326531,\"non-zeros\":331},{\"id\":212,\"class_id\":8,\"class_name\":\"bag\",\"brightness\":73.9528061224,\"non-zeros\":462},{\"id\":213,\"class_id\":5,\"class_name\":\"sandal\",\"brightness\":61.1479591837,\"non-zeros\":385},{\"id\":214,\"class_id\":8,\"class_name\":\"bag\",\"brightness\":73.7385204082,\"non-zeros\":368},{\"id\":215,\"class_id\":3,\"class_name\":\"dress\",\"brightness\":45.1441326531,\"non-zeros\":315},{\"id\":216,\"class_id\":8,\"class_name\":\"bag\",\"brightness\":131.3482142857,\"non-zeros\":535},{\"id\":217,\"class_id\":5,\"class_name\":\"sandal\",\"brightness\":31.4795918367,\"non-zeros\":233},{\"id\":218,\"class_id\":2,\"class_name\":\"pullover\",\"brightness\":142.1441326531,\"non-zeros\":652},{\"id\":219,\"class_id\":0,\"class_name\":\"t-shirt\\/top\",\"brightness\":78.5956632653,\"non-zeros\":464},{\"id\":220,\"class_id\":8,\"class_name\":\"bag\",\"brightness\":133.3724489796,\"non-zeros\":534},{\"id\":221,\"class_id\":7,\"class_name\":\"sneaker\",\"brightness\":55.4489795918,\"non-zeros\":326},{\"id\":222,\"class_id\":0,\"class_name\":\"t-shirt\\/top\",\"brightness\":84.5165816327,\"non-zeros\":338},{\"id\":223,\"class_id\":3,\"class_name\":\"dress\",\"brightness\":55.5727040816,\"non-zeros\":276},{\"id\":224,\"class_id\":5,\"class_name\":\"sandal\",\"brightness\":46.5204081633,\"non-zeros\":348},{\"id\":225,\"class_id\":0,\"class_name\":\"t-shirt\\/top\",\"brightness\":116.8520408163,\"non-zeros\":466},{\"id\":226,\"class_id\":6,\"class_name\":\"shirt\",\"brightness\":116.4005102041,\"non-zeros\":454},{\"id\":227,\"class_id\":5,\"class_name\":\"sandal\",\"brightness\":67.2640306122,\"non-zeros\":374},{\"id\":228,\"class_id\":2,\"class_name\":\"pullover\",\"brightness\":98.8329081633,\"non-zeros\":451},{\"id\":229,\"class_id\":7,\"class_name\":\"sneaker\",\"brightness\":36.2219387755,\"non-zeros\":258},{\"id\":230,\"class_id\":5,\"class_name\":\"sandal\",\"brightness\":19.7755102041,\"non-zeros\":213},{\"id\":231,\"class_id\":2,\"class_name\":\"pullover\",\"brightness\":105.4617346939,\"non-zeros\":575},{\"id\":232,\"class_id\":6,\"class_name\":\"shirt\",\"brightness\":80.8711734694,\"non-zeros\":363},{\"id\":233,\"class_id\":8,\"class_name\":\"bag\",\"brightness\":88.4910714286,\"non-zeros\":511},{\"id\":234,\"class_id\":2,\"class_name\":\"pullover\",\"brightness\":138.1517857143,\"non-zeros\":598},{\"id\":235,\"class_id\":6,\"class_name\":\"shirt\",\"brightness\":73.1568877551,\"non-zeros\":557},{\"id\":236,\"class_id\":8,\"class_name\":\"bag\",\"brightness\":41.243622449,\"non-zeros\":390},{\"id\":237,\"class_id\":0,\"class_name\":\"t-shirt\\/top\",\"brightness\":136.487244898,\"non-zeros\":517},{\"id\":238,\"class_id\":4,\"class_name\":\"coat\",\"brightness\":107.7040816327,\"non-zeros\":531},{\"id\":239,\"class_id\":4,\"class_name\":\"coat\",\"brightness\":79.6096938776,\"non-zeros\":446},{\"id\":240,\"class_id\":4,\"class_name\":\"coat\",\"brightness\":94.568877551,\"non-zeros\":486},{\"id\":241,\"class_id\":4,\"class_name\":\"coat\",\"brightness\":128.4961734694,\"non-zeros\":515},{\"id\":242,\"class_id\":4,\"class_name\":\"coat\",\"brightness\":114.0204081633,\"non-zeros\":492},{\"id\":243,\"class_id\":1,\"class_name\":\"trouser\",\"brightness\":98.3635204082,\"non-zeros\":373},{\"id\":244,\"class_id\":5,\"class_name\":\"sandal\",\"brightness\":44.2308673469,\"non-zeros\":296},{\"id\":245,\"class_id\":6,\"class_name\":\"shirt\",\"brightness\":103.1160714286,\"non-zeros\":396},{\"id\":246,\"class_id\":5,\"class_name\":\"sandal\",\"brightness\":95.7461734694,\"non-zeros\":482},{\"id\":247,\"class_id\":3,\"class_name\":\"dress\",\"brightness\":33.3775510204,\"non-zeros\":194},{\"id\":248,\"class_id\":3,\"class_name\":\"dress\",\"brightness\":76.4209183673,\"non-zeros\":305},{\"id\":249,\"class_id\":7,\"class_name\":\"sneaker\",\"brightness\":62.3864795918,\"non-zeros\":367},{\"id\":250,\"class_id\":3,\"class_name\":\"dress\",\"brightness\":35.5025510204,\"non-zeros\":211},{\"id\":251,\"class_id\":3,\"class_name\":\"dress\",\"brightness\":42.1211734694,\"non-zeros\":453},{\"id\":252,\"class_id\":6,\"class_name\":\"shirt\",\"brightness\":74.4846938776,\"non-zeros\":536},{\"id\":253,\"class_id\":2,\"class_name\":\"pullover\",\"brightness\":112.8660714286,\"non-zeros\":557},{\"id\":254,\"class_id\":8,\"class_name\":\"bag\",\"brightness\":91.8533163265,\"non-zeros\":402},{\"id\":255,\"class_id\":4,\"class_name\":\"coat\",\"brightness\":96.6798469388,\"non-zeros\":504},{\"id\":256,\"class_id\":6,\"class_name\":\"shirt\",\"brightness\":43.0318877551,\"non-zeros\":456},{\"id\":257,\"class_id\":5,\"class_name\":\"sandal\",\"brightness\":29.8048469388,\"non-zeros\":222},{\"id\":258,\"class_id\":9,\"class_name\":\"angle_boot\",\"brightness\":60.3673469388,\"non-zeros\":326},{\"id\":259,\"class_id\":3,\"class_name\":\"dress\",\"brightness\":46.6160714286,\"non-zeros\":202},{\"id\":260,\"class_id\":2,\"class_name\":\"pullover\",\"brightness\":72.9732142857,\"non-zeros\":472},{\"id\":261,\"class_id\":3,\"class_name\":\"dress\",\"brightness\":71.9566326531,\"non-zeros\":427},{\"id\":262,\"class_id\":2,\"class_name\":\"pullover\",\"brightness\":72.4974489796,\"non-zeros\":506},{\"id\":263,\"class_id\":4,\"class_name\":\"coat\",\"brightness\":139.8303571429,\"non-zeros\":546},{\"id\":264,\"class_id\":4,\"class_name\":\"coat\",\"brightness\":129.6033163265,\"non-zeros\":503},{\"id\":265,\"class_id\":8,\"class_name\":\"bag\",\"brightness\":129.7691326531,\"non-zeros\":563},{\"id\":266,\"class_id\":2,\"class_name\":\"pullover\",\"brightness\":132.5931122449,\"non-zeros\":562},{\"id\":267,\"class_id\":5,\"class_name\":\"sandal\",\"brightness\":56.7984693878,\"non-zeros\":385},{\"id\":268,\"class_id\":3,\"class_name\":\"dress\",\"brightness\":93.4795918367,\"non-zeros\":378},{\"id\":269,\"class_id\":0,\"class_name\":\"t-shirt\\/top\",\"brightness\":130.9948979592,\"non-zeros\":509},{\"id\":270,\"class_id\":7,\"class_name\":\"sneaker\",\"brightness\":32.2959183673,\"non-zeros\":267},{\"id\":271,\"class_id\":2,\"class_name\":\"pullover\",\"brightness\":111.7602040816,\"non-zeros\":447},{\"id\":272,\"class_id\":0,\"class_name\":\"t-shirt\\/top\",\"brightness\":104.1084183673,\"non-zeros\":469},{\"id\":273,\"class_id\":2,\"class_name\":\"pullover\",\"brightness\":131.6989795918,\"non-zeros\":529},{\"id\":274,\"class_id\":5,\"class_name\":\"sandal\",\"brightness\":32.4515306122,\"non-zeros\":385},{\"id\":275,\"class_id\":7,\"class_name\":\"sneaker\",\"brightness\":66.3864795918,\"non-zeros\":292},{\"id\":276,\"class_id\":2,\"class_name\":\"pullover\",\"brightness\":113.7946428571,\"non-zeros\":492},{\"id\":277,\"class_id\":3,\"class_name\":\"dress\",\"brightness\":36.512755102,\"non-zeros\":320},{\"id\":278,\"class_id\":1,\"class_name\":\"trouser\",\"brightness\":45.1760204082,\"non-zeros\":231},{\"id\":279,\"class_id\":7,\"class_name\":\"sneaker\",\"brightness\":39.9668367347,\"non-zeros\":219},{\"id\":280,\"class_id\":6,\"class_name\":\"shirt\",\"brightness\":28.3380102041,\"non-zeros\":455},{\"id\":281,\"class_id\":2,\"class_name\":\"pullover\",\"brightness\":136.5,\"non-zeros\":512},{\"id\":282,\"class_id\":9,\"class_name\":\"angle_boot\",\"brightness\":35.0267857143,\"non-zeros\":272},{\"id\":283,\"class_id\":1,\"class_name\":\"trouser\",\"brightness\":57.4158163265,\"non-zeros\":263},{\"id\":284,\"class_id\":9,\"class_name\":\"angle_boot\",\"brightness\":72.1849489796,\"non-zeros\":365},{\"id\":285,\"class_id\":1,\"class_name\":\"trouser\",\"brightness\":62.9566326531,\"non-zeros\":266},{\"id\":286,\"class_id\":1,\"class_name\":\"trouser\",\"brightness\":49.5612244898,\"non-zeros\":309},{\"id\":287,\"class_id\":8,\"class_name\":\"bag\",\"brightness\":96.0038265306,\"non-zeros\":409},{\"id\":288,\"class_id\":7,\"class_name\":\"sneaker\",\"brightness\":34.2066326531,\"non-zeros\":232},{\"id\":289,\"class_id\":8,\"class_name\":\"bag\",\"brightness\":168.762755102,\"non-zeros\":665},{\"id\":290,\"class_id\":4,\"class_name\":\"coat\",\"brightness\":133.7117346939,\"non-zeros\":587},{\"id\":291,\"class_id\":2,\"class_name\":\"pullover\",\"brightness\":60.0510204082,\"non-zeros\":514},{\"id\":292,\"class_id\":6,\"class_name\":\"shirt\",\"brightness\":46.6658163265,\"non-zeros\":481},{\"id\":293,\"class_id\":6,\"class_name\":\"shirt\",\"brightness\":40.2270408163,\"non-zeros\":515},{\"id\":294,\"class_id\":7,\"class_name\":\"sneaker\",\"brightness\":30.5637755102,\"non-zeros\":283},{\"id\":295,\"class_id\":9,\"class_name\":\"angle_boot\",\"brightness\":95.1301020408,\"non-zeros\":381},{\"id\":296,\"class_id\":4,\"class_name\":\"coat\",\"brightness\":37.3647959184,\"non-zeros\":476},{\"id\":297,\"class_id\":6,\"class_name\":\"shirt\",\"brightness\":114.1836734694,\"non-zeros\":524},{\"id\":298,\"class_id\":1,\"class_name\":\"trouser\",\"brightness\":63.4553571429,\"non-zeros\":258},{\"id\":299,\"class_id\":9,\"class_name\":\"angle_boot\",\"brightness\":74.6045918367,\"non-zeros\":340},{\"id\":300,\"class_id\":5,\"class_name\":\"sandal\",\"brightness\":19.6836734694,\"non-zeros\":175},{\"id\":301,\"class_id\":6,\"class_name\":\"shirt\",\"brightness\":132.5408163265,\"non-zeros\":525},{\"id\":302,\"class_id\":0,\"class_name\":\"t-shirt\\/top\",\"brightness\":67.3737244898,\"non-zeros\":526},{\"id\":303,\"class_id\":5,\"class_name\":\"sandal\",\"brightness\":24.5025510204,\"non-zeros\":308},{\"id\":304,\"class_id\":0,\"class_name\":\"t-shirt\\/top\",\"brightness\":105.8596938776,\"non-zeros\":438},{\"id\":305,\"class_id\":1,\"class_name\":\"trouser\",\"brightness\":39.375,\"non-zeros\":222},{\"id\":306,\"class_id\":6,\"class_name\":\"shirt\",\"brightness\":123.1798469388,\"non-zeros\":536},{\"id\":307,\"class_id\":1,\"class_name\":\"trouser\",\"brightness\":48.3316326531,\"non-zeros\":256},{\"id\":308,\"class_id\":1,\"class_name\":\"trouser\",\"brightness\":61.9885204082,\"non-zeros\":235},{\"id\":309,\"class_id\":6,\"class_name\":\"shirt\",\"brightness\":100.3979591837,\"non-zeros\":542},{\"id\":310,\"class_id\":7,\"class_name\":\"sneaker\",\"brightness\":50.9375,\"non-zeros\":250},{\"id\":311,\"class_id\":4,\"class_name\":\"coat\",\"brightness\":145.875,\"non-zeros\":557},{\"id\":312,\"class_id\":4,\"class_name\":\"coat\",\"brightness\":146.875,\"non-zeros\":609},{\"id\":313,\"class_id\":8,\"class_name\":\"bag\",\"brightness\":51.9183673469,\"non-zeros\":290},{\"id\":314,\"class_id\":6,\"class_name\":\"shirt\",\"brightness\":111.3954081633,\"non-zeros\":530},{\"id\":315,\"class_id\":4,\"class_name\":\"coat\",\"brightness\":78.6084183673,\"non-zeros\":344},{\"id\":316,\"class_id\":6,\"class_name\":\"shirt\",\"brightness\":109.8456632653,\"non-zeros\":509},{\"id\":317,\"class_id\":9,\"class_name\":\"angle_boot\",\"brightness\":58.1887755102,\"non-zeros\":250},{\"id\":318,\"class_id\":3,\"class_name\":\"dress\",\"brightness\":130.3303571429,\"non-zeros\":531},{\"id\":319,\"class_id\":7,\"class_name\":\"sneaker\",\"brightness\":42.6109693878,\"non-zeros\":222},{\"id\":320,\"class_id\":5,\"class_name\":\"sandal\",\"brightness\":21.1862244898,\"non-zeros\":143},{\"id\":321,\"class_id\":0,\"class_name\":\"t-shirt\\/top\",\"brightness\":85.2244897959,\"non-zeros\":438},{\"id\":322,\"class_id\":8,\"class_name\":\"bag\",\"brightness\":72.4642857143,\"non-zeros\":463},{\"id\":323,\"class_id\":3,\"class_name\":\"dress\",\"brightness\":79.8660714286,\"non-zeros\":385},{\"id\":324,\"class_id\":4,\"class_name\":\"coat\",\"brightness\":89.9783163265,\"non-zeros\":419},{\"id\":325,\"class_id\":0,\"class_name\":\"t-shirt\\/top\",\"brightness\":42.5676020408,\"non-zeros\":424},{\"id\":326,\"class_id\":3,\"class_name\":\"dress\",\"brightness\":52.7742346939,\"non-zeros\":287},{\"id\":327,\"class_id\":3,\"class_name\":\"dress\",\"brightness\":31.1964285714,\"non-zeros\":355},{\"id\":328,\"class_id\":2,\"class_name\":\"pullover\",\"brightness\":119.8954081633,\"non-zeros\":467},{\"id\":329,\"class_id\":0,\"class_name\":\"t-shirt\\/top\",\"brightness\":111.5178571429,\"non-zeros\":478},{\"id\":330,\"class_id\":1,\"class_name\":\"trouser\",\"brightness\":58.4974489796,\"non-zeros\":227},{\"id\":331,\"class_id\":0,\"class_name\":\"t-shirt\\/top\",\"brightness\":95.1020408163,\"non-zeros\":474},{\"id\":332,\"class_id\":3,\"class_name\":\"dress\",\"brightness\":65.0650510204,\"non-zeros\":328},{\"id\":333,\"class_id\":8,\"class_name\":\"bag\",\"brightness\":70.2742346939,\"non-zeros\":367},{\"id\":334,\"class_id\":3,\"class_name\":\"dress\",\"brightness\":76.6849489796,\"non-zeros\":347},{\"id\":335,\"class_id\":9,\"class_name\":\"angle_boot\",\"brightness\":121.0790816327,\"non-zeros\":457},{\"id\":336,\"class_id\":1,\"class_name\":\"trouser\",\"brightness\":81.2474489796,\"non-zeros\":369},{\"id\":337,\"class_id\":9,\"class_name\":\"angle_boot\",\"brightness\":67.0140306122,\"non-zeros\":303},{\"id\":338,\"class_id\":0,\"class_name\":\"t-shirt\\/top\",\"brightness\":90.3329081633,\"non-zeros\":445},{\"id\":339,\"class_id\":4,\"class_name\":\"coat\",\"brightness\":15.7538265306,\"non-zeros\":419},{\"id\":340,\"class_id\":7,\"class_name\":\"sneaker\",\"brightness\":51.6505102041,\"non-zeros\":240},{\"id\":341,\"class_id\":7,\"class_name\":\"sneaker\",\"brightness\":36.4426020408,\"non-zeros\":264},{\"id\":342,\"class_id\":8,\"class_name\":\"bag\",\"brightness\":64.4732142857,\"non-zeros\":365},{\"id\":343,\"class_id\":5,\"class_name\":\"sandal\",\"brightness\":29.1721938776,\"non-zeros\":161},{\"id\":344,\"class_id\":6,\"class_name\":\"shirt\",\"brightness\":83.0867346939,\"non-zeros\":502},{\"id\":345,\"class_id\":5,\"class_name\":\"sandal\",\"brightness\":47.7193877551,\"non-zeros\":376},{\"id\":346,\"class_id\":6,\"class_name\":\"shirt\",\"brightness\":53.8150510204,\"non-zeros\":517},{\"id\":347,\"class_id\":8,\"class_name\":\"bag\",\"brightness\":75.9272959184,\"non-zeros\":321},{\"id\":348,\"class_id\":2,\"class_name\":\"pullover\",\"brightness\":42.4005102041,\"non-zeros\":559},{\"id\":349,\"class_id\":5,\"class_name\":\"sandal\",\"brightness\":15.4170918367,\"non-zeros\":144},{\"id\":350,\"class_id\":2,\"class_name\":\"pullover\",\"brightness\":118.556122449,\"non-zeros\":469},{\"id\":351,\"class_id\":3,\"class_name\":\"dress\",\"brightness\":52.0408163265,\"non-zeros\":291},{\"id\":352,\"class_id\":1,\"class_name\":\"trouser\",\"brightness\":42.0025510204,\"non-zeros\":249},{\"id\":353,\"class_id\":6,\"class_name\":\"shirt\",\"brightness\":59.9145408163,\"non-zeros\":414},{\"id\":354,\"class_id\":0,\"class_name\":\"t-shirt\\/top\",\"brightness\":63.2806122449,\"non-zeros\":525},{\"id\":355,\"class_id\":7,\"class_name\":\"sneaker\",\"brightness\":58.5344387755,\"non-zeros\":336},{\"id\":356,\"class_id\":8,\"class_name\":\"bag\",\"brightness\":60.1147959184,\"non-zeros\":366},{\"id\":357,\"class_id\":7,\"class_name\":\"sneaker\",\"brightness\":44.5714285714,\"non-zeros\":242},{\"id\":358,\"class_id\":8,\"class_name\":\"bag\",\"brightness\":81.7474489796,\"non-zeros\":524},{\"id\":359,\"class_id\":1,\"class_name\":\"trouser\",\"brightness\":64.118622449,\"non-zeros\":362},{\"id\":360,\"class_id\":9,\"class_name\":\"angle_boot\",\"brightness\":54.1441326531,\"non-zeros\":243},{\"id\":361,\"class_id\":6,\"class_name\":\"shirt\",\"brightness\":75.0025510204,\"non-zeros\":492},{\"id\":362,\"class_id\":4,\"class_name\":\"coat\",\"brightness\":81.318877551,\"non-zeros\":360},{\"id\":363,\"class_id\":5,\"class_name\":\"sandal\",\"brightness\":44.6645408163,\"non-zeros\":241},{\"id\":364,\"class_id\":7,\"class_name\":\"sneaker\",\"brightness\":43.2283163265,\"non-zeros\":287},{\"id\":365,\"class_id\":1,\"class_name\":\"trouser\",\"brightness\":57.2461734694,\"non-zeros\":240},{\"id\":366,\"class_id\":7,\"class_name\":\"sneaker\",\"brightness\":33.2295918367,\"non-zeros\":263},{\"id\":367,\"class_id\":6,\"class_name\":\"shirt\",\"brightness\":49.2767857143,\"non-zeros\":565},{\"id\":368,\"class_id\":6,\"class_name\":\"shirt\",\"brightness\":97.8673469388,\"non-zeros\":518},{\"id\":369,\"class_id\":7,\"class_name\":\"sneaker\",\"brightness\":37.2193877551,\"non-zeros\":221},{\"id\":370,\"class_id\":3,\"class_name\":\"dress\",\"brightness\":66.7423469388,\"non-zeros\":251},{\"id\":371,\"class_id\":5,\"class_name\":\"sandal\",\"brightness\":49.006377551,\"non-zeros\":336},{\"id\":372,\"class_id\":8,\"class_name\":\"bag\",\"brightness\":96.2487244898,\"non-zeros\":498},{\"id\":373,\"class_id\":7,\"class_name\":\"sneaker\",\"brightness\":40.7321428571,\"non-zeros\":247},{\"id\":374,\"class_id\":3,\"class_name\":\"dress\",\"brightness\":75.743622449,\"non-zeros\":306},{\"id\":375,\"class_id\":3,\"class_name\":\"dress\",\"brightness\":91.7040816327,\"non-zeros\":381},{\"id\":376,\"class_id\":9,\"class_name\":\"angle_boot\",\"brightness\":85.2933673469,\"non-zeros\":419},{\"id\":377,\"class_id\":0,\"class_name\":\"t-shirt\\/top\",\"brightness\":54.174744898,\"non-zeros\":366},{\"id\":378,\"class_id\":3,\"class_name\":\"dress\",\"brightness\":70.1658163265,\"non-zeros\":321},{\"id\":379,\"class_id\":1,\"class_name\":\"trouser\",\"brightness\":40.1530612245,\"non-zeros\":222},{\"id\":380,\"class_id\":6,\"class_name\":\"shirt\",\"brightness\":97.2895408163,\"non-zeros\":418},{\"id\":381,\"class_id\":4,\"class_name\":\"coat\",\"brightness\":110.9604591837,\"non-zeros\":506},{\"id\":382,\"class_id\":7,\"class_name\":\"sneaker\",\"brightness\":35.8979591837,\"non-zeros\":239},{\"id\":383,\"class_id\":0,\"class_name\":\"t-shirt\\/top\",\"brightness\":86.0446428571,\"non-zeros\":382},{\"id\":384,\"class_id\":5,\"class_name\":\"sandal\",\"brightness\":15.2168367347,\"non-zeros\":198},{\"id\":385,\"class_id\":1,\"class_name\":\"trouser\",\"brightness\":42.6607142857,\"non-zeros\":256},{\"id\":386,\"class_id\":5,\"class_name\":\"sandal\",\"brightness\":43.950255102,\"non-zeros\":307},{\"id\":387,\"class_id\":4,\"class_name\":\"coat\",\"brightness\":97.6135204082,\"non-zeros\":394},{\"id\":388,\"class_id\":4,\"class_name\":\"coat\",\"brightness\":60.4107142857,\"non-zeros\":464},{\"id\":389,\"class_id\":5,\"class_name\":\"sandal\",\"brightness\":20.4732142857,\"non-zeros\":236},{\"id\":390,\"class_id\":9,\"class_name\":\"angle_boot\",\"brightness\":59.0140306122,\"non-zeros\":388},{\"id\":391,\"class_id\":1,\"class_name\":\"trouser\",\"brightness\":65.7895408163,\"non-zeros\":281},{\"id\":392,\"class_id\":0,\"class_name\":\"t-shirt\\/top\",\"brightness\":79.1785714286,\"non-zeros\":322},{\"id\":393,\"class_id\":5,\"class_name\":\"sandal\",\"brightness\":30.2244897959,\"non-zeros\":214},{\"id\":394,\"class_id\":8,\"class_name\":\"bag\",\"brightness\":87.3239795918,\"non-zeros\":550},{\"id\":395,\"class_id\":3,\"class_name\":\"dress\",\"brightness\":80.881377551,\"non-zeros\":355},{\"id\":396,\"class_id\":4,\"class_name\":\"coat\",\"brightness\":31.2346938776,\"non-zeros\":401},{\"id\":397,\"class_id\":4,\"class_name\":\"coat\",\"brightness\":118.5943877551,\"non-zeros\":479},{\"id\":398,\"class_id\":2,\"class_name\":\"pullover\",\"brightness\":46.9744897959,\"non-zeros\":582},{\"id\":399,\"class_id\":4,\"class_name\":\"coat\",\"brightness\":137.0446428571,\"non-zeros\":531}];\n",
       "        </script>"
      ],
      "text/plain": [
       "<IPython.core.display.HTML object>"
      ]
     },
     "metadata": {},
     "output_type": "display_data"
    }
   ],
   "source": [
    "# Display the Dive visualization for this data\n",
    "from IPython.core.display import display, HTML\n",
    "\n",
    "sprite_size = 28\n",
    "\n",
    "# Create Facets template  \n",
    "HTML_TEMPLATE = \"\"\"<link rel=\"import\" href=\"/nbextensions/facets-dist/facets-jupyter.html\">\n",
    "        <facets-dive sprite-image-width=\"{sprite_size}\" sprite-image-height=\"{sprite_size}\" id=\"elem\" height=\"600\" atlas-url=\"sprite_atlas.png\"></facets-dive>\n",
    "        <script>\n",
    "          document.querySelector(\"#elem\").data = {jsonstr};\n",
    "        </script>\"\"\"\n",
    "\n",
    "# Load the json dataset and the sprite_size into the template\n",
    "html = HTML_TEMPLATE.format(jsonstr=jsonstr, sprite_size=sprite_size)\n",
    "\n",
    "# Display the template\n",
    "display(HTML(html))"
   ]
  },
  {
   "cell_type": "code",
   "execution_count": null,
   "metadata": {},
   "outputs": [],
   "source": []
  }
 ],
 "metadata": {
  "kernelspec": {
   "display_name": "Python 3",
   "language": "python",
   "name": "python3"
  },
  "language_info": {
   "codemirror_mode": {
    "name": "ipython",
    "version": 3
   },
   "file_extension": ".py",
   "mimetype": "text/x-python",
   "name": "python",
   "nbconvert_exporter": "python",
   "pygments_lexer": "ipython3",
   "version": "3.8.3"
  }
 },
 "nbformat": 4,
 "nbformat_minor": 4
}
