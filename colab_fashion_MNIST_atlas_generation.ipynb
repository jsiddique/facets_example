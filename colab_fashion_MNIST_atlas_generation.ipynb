{
  "nbformat": 4,
  "nbformat_minor": 0,
  "metadata": {
    "kernelspec": {
      "display_name": "Python 3",
      "language": "python",
      "name": "python3"
    },
    "language_info": {
      "codemirror_mode": {
        "name": "ipython",
        "version": 3
      },
      "file_extension": ".py",
      "mimetype": "text/x-python",
      "name": "python",
      "nbconvert_exporter": "python",
      "pygments_lexer": "ipython3",
      "version": "3.8.3"
    },
    "colab": {
      "name": "colab-fashion_MNIST_atlas_generation.ipynb",
      "provenance": [],
      "collapsed_sections": []
    }
  },
  "cells": [
    {
      "cell_type": "markdown",
      "metadata": {
        "id": "5aIGTqs05g2r"
      },
      "source": [
        "# Generate atlas and metadata that can be by Facets Dive\n",
        "\n",
        "This Notebook serves as a simple example for how to generate an atlas that can be visualized using Facets Dive. "
      ]
    },
    {
      "cell_type": "code",
      "metadata": {
        "id": "4P1AMfNe5g2s"
      },
      "source": [
        "!pip install scikit-image"
      ],
      "execution_count": null,
      "outputs": []
    },
    {
      "cell_type": "code",
      "metadata": {
        "id": "KhdGewMX5g2x"
      },
      "source": [
        "import numpy as np\n",
        "import pandas as pd\n",
        "import os\n",
        "from matplotlib import pyplot as plt\n",
        "from skimage import io"
      ],
      "execution_count": null,
      "outputs": []
    },
    {
      "cell_type": "markdown",
      "metadata": {
        "id": "pVDx-DGx5g20"
      },
      "source": [
        "## Download the Fashion-MNIST dataset"
      ]
    },
    {
      "cell_type": "code",
      "metadata": {
        "id": "vk29WytS5g20"
      },
      "source": [
        "!git clone https://github.com/zalandoresearch/fashion-mnist.git fmnist"
      ],
      "execution_count": null,
      "outputs": []
    },
    {
      "cell_type": "code",
      "metadata": {
        "id": "sig1xGd75g23"
      },
      "source": [
        "import sys\n",
        "sys.path.append('fmnist/utils')\n",
        "from mnist_reader import load_mnist\n",
        "\n",
        "X_train, y_train = load_mnist('fmnist/data/fashion', kind='train')\n",
        "X_test, y_test = load_mnist('fmnist/data/fashion', kind='t10k')"
      ],
      "execution_count": null,
      "outputs": []
    },
    {
      "cell_type": "code",
      "metadata": {
        "id": "huupVnXM5g25"
      },
      "source": [
        "X_train = X_train[0:400]\n",
        "y_train = y_train[0:400]"
      ],
      "execution_count": null,
      "outputs": []
    },
    {
      "cell_type": "code",
      "metadata": {
        "id": "vSu5Z4vS5g28"
      },
      "source": [
        "label_names = {\n",
        "    0: 't-shirt/top',\n",
        "    1: 'trouser',\n",
        "    2: 'pullover',\n",
        "    3: 'dress',\n",
        "    4: 'coat',\n",
        "    5: 'sandal',\n",
        "    6: 'shirt',\n",
        "    7: 'sneaker',\n",
        "    8: 'bag',\n",
        "    9: 'angle_boot'\n",
        "}"
      ],
      "execution_count": null,
      "outputs": []
    },
    {
      "cell_type": "markdown",
      "metadata": {
        "id": "2QR3sEwD5g2-"
      },
      "source": [
        "## Generate some artificial meta-data for each image"
      ]
    },
    {
      "cell_type": "code",
      "metadata": {
        "id": "PYje9FvN5g2_"
      },
      "source": [
        "# store the indices of each image as IDs\n",
        "im_ids = range(X_train.shape[0])\n",
        "\n",
        "# get the brightness of each image\n",
        "im_brightness = np.mean(X_train, axis=1)\n",
        "\n",
        "# get the number of non-zero pixels per image\n",
        "non_zeros = np.sum(X_train > 0, axis=1)\n",
        "\n",
        "class_name = [label_names[y] for y in y_train]\n",
        "\n",
        "# output to JSON file\n",
        "\n",
        "df = pd.DataFrame({'id': im_ids, 'class_id': y_train, 'class_name': class_name, 'brightness': im_brightness, 'non-zeros': non_zeros})\n",
        "jsonstr = df.to_json(orient='records')\n",
        "\n",
        "with open('fmnist_data.json', 'w') as f:\n",
        "    f.write(jsonstr)"
      ],
      "execution_count": null,
      "outputs": []
    },
    {
      "cell_type": "code",
      "metadata": {
        "id": "Z01P6Sv15g3B"
      },
      "source": [
        "df.to_csv('fmnist.csv', index=None)"
      ],
      "execution_count": null,
      "outputs": []
    },
    {
      "cell_type": "markdown",
      "metadata": {
        "id": "NK4Z6Rbz5g3D"
      },
      "source": [
        "\n",
        "## Create sprite atlas\n",
        "\n",
        "We use Bazel to generate a \"sprite atlas\", which is a mosaic of all the small images.\n",
        "\n",
        "Since we already have all the images in a Numpy array, we can generate our own sprite atlas."
      ]
    },
    {
      "cell_type": "markdown",
      "metadata": {
        "id": "zM4XOmRC5g3E"
      },
      "source": [
        "### Manually create sprite atlas (i.e. mosaic)"
      ]
    },
    {
      "cell_type": "code",
      "metadata": {
        "id": "2001FeM_5g3E"
      },
      "source": [
        "# reshape image data from rows into square images\n",
        "im_w = im_h = 28\n",
        "num_images = X_train.shape[0]\n",
        "X = np.reshape(X_train, (num_images, im_h, im_w))\n",
        "\n",
        "# calculate how many rows and columns we need (round up)\n",
        "cols = int(np.ceil(np.sqrt(X_train.shape[0])))\n",
        "rows = int(np.ceil(X_train.shape[0] * 1. / cols))\n",
        "\n",
        "# copy image data into mosaic\n",
        "mosaic = np.zeros((rows * im_h, cols * im_w), dtype=np.uint8)\n",
        "\n",
        "for row in range(rows):\n",
        "    for col in range(cols):\n",
        "        im_index = col * rows + row\n",
        "        if im_index < num_images:\n",
        "            mosaic[col * im_h:(col+1) * im_h, row * im_w:(row+1) * im_w] = X[im_index, :, :]"
      ],
      "execution_count": null,
      "outputs": []
    },
    {
      "cell_type": "code",
      "metadata": {
        "id": "OOa36P_M5g3G"
      },
      "source": [
        "# write mosaic image to disk\n",
        "io.imsave('sprite_atlas.png', mosaic)"
      ],
      "execution_count": null,
      "outputs": []
    },
    {
      "cell_type": "code",
      "metadata": {
        "id": "8IILmgV55g3J"
      },
      "source": [
        "jj = 41\n",
        "plt.imshow(X[jj, :, :])\n",
        "print(label_names[y_train[jj]])"
      ],
      "execution_count": null,
      "outputs": []
    },
    {
      "cell_type": "code",
      "metadata": {
        "id": "ArHpw41b5g3R"
      },
      "source": [
        ""
      ],
      "execution_count": null,
      "outputs": []
    }
  ]
}